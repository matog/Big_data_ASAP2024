{
 "cells": [
  {
   "cell_type": "markdown",
   "metadata": {},
   "source": [
    "[![Open In Colab](https://colab.research.google.com/assets/colab-badge.svg)](https://colab.research.google.com/github/matog/Flacso_ciencia_de_datos_python_2022/blob/main/Clase2/1%20-%20Introducción%20a%20pandas.ipynb)"
   ]
  },
  {
   "cell_type": "markdown",
   "metadata": {},
   "source": [
    "# Introducción al analisis y manipulación de datos con Python y Pandas\n",
    "\n",
    "\n",
    "## Qué es pandas?\n",
    "\n",
    "[pandas](https://pandas.pydata.org/) es una librería open source que permite analizar y manipular datos.Python, you're going to use pandas.\n",
    "\n",
    "## Por qué Pandas?\n",
    "\n",
    "Pandas brinda un conjunto de funciones simples, pero potentes, que podemos utilizar en con nuestros datos.\n",
    "\n",
    "Se integra con otras herramientas de ciencia de datos y machine learning, por lo que es muy útils aprender su uso."
   ]
  },
  {
   "cell_type": "markdown",
   "metadata": {},
   "source": [
    "## 0. Importando pandas\n",
    "\n",
    "Para usar pandas, lo primero que hay que hacer es importarlo. Esto hay que hacerlo cada vez que se abre el notebook.\n",
    "\n",
    "En caso de no tenerlo installado, primero hay que correr:"
   ]
  },
  {
   "cell_type": "code",
   "execution_count": null,
   "metadata": {},
   "outputs": [],
   "source": [
    "!pip install pandas"
   ]
  },
  {
   "cell_type": "markdown",
   "metadata": {},
   "source": [
    "Sólo es necesario instalarlo una vez, salvo que se desinstale voluntaria o involuntariamente.\n",
    "\n",
    "La forma mas sencilla es importar pandas con la abreviación `pd`, que es la utilizada en la mayoría de los notebooks sobre ciencia de datos. "
   ]
  },
  {
   "cell_type": "code",
   "execution_count": 1,
   "metadata": {},
   "outputs": [],
   "source": [
    "import pandas as pd"
   ]
  },
  {
   "cell_type": "markdown",
   "metadata": {},
   "source": [
    "## 1. Datatypes\n",
    "\n",
    "Pandas tiene dos datatypes principales, `Series` y `DataFrame`.\n",
    "* `Series` - Una columna uni-dimensional de datos.\n",
    "* `DataFrame` (el mas común) - Una tabla bidimensional con files y columnas.\n",
    "\n",
    "Se puede crear una `Series` y utilizar `pd.Series()`, y pasarle una lista de Python."
   ]
  },
  {
   "cell_type": "code",
   "execution_count": null,
   "metadata": {},
   "outputs": [],
   "source": [
    "# Creando una serie con modelos de autos\n",
    "cars = pd.Series([\"BMW\", \"Toyota\", \"Honda\"])\n",
    "cars"
   ]
  },
  {
   "cell_type": "code",
   "execution_count": null,
   "metadata": {},
   "outputs": [],
   "source": [
    "# Creando una serie con colores\n",
    "colours = pd.Series([\"Blue\", \"Red\", \"White\"])\n",
    "colours"
   ]
  },
  {
   "cell_type": "markdown",
   "metadata": {},
   "source": [
    "Podemos crear un `DataFrame` utilizando `pd.DataFrame()` y pasandole un diccionario de Python.\n",
    "\n",
    "Vamos a utilizar las dos `Series` como los valores."
   ]
  },
  {
   "cell_type": "code",
   "execution_count": null,
   "metadata": {},
   "outputs": [],
   "source": [
    "# Creando un dataframe de autos y colores.\n",
    "car_data = pd.DataFrame({\"Car type\": cars, \n",
    "                         \"Colour\": colours})"
   ]
  },
  {
   "cell_type": "code",
   "execution_count": null,
   "metadata": {},
   "outputs": [],
   "source": [
    "car_data"
   ]
  },
  {
   "cell_type": "markdown",
   "metadata": {},
   "source": [
    "Vemos que las `keys` del diccionario son los nombres de las columnas, y los valores de las dos `Series`son los valores del dataframe.\n",
    "\n",
    "Es importante destacar que varios tipos de datos diferentes pueden ir como valores del dataframe (floats, integers y más)."
   ]
  },
  {
   "cell_type": "markdown",
   "metadata": {},
   "source": [
    "### Exercises\n",
    "\n",
    "1. Make a `Series` of different foods.\n",
    "2. Make a `Series` of different dollar values (these can be integers).\n",
    "3. Combine your `Series`'s of foods and dollar values into a `DataFrame`.\n",
    "\n",
    "Try it out for yourself first, then see how your code goes against the solution.\n",
    "\n",
    "**Note:** Make sure your two `Series` are the same size before combining them in a DataFrame."
   ]
  },
  {
   "cell_type": "code",
   "execution_count": null,
   "metadata": {},
   "outputs": [],
   "source": [
    "# Your code here"
   ]
  },
  {
   "cell_type": "code",
   "execution_count": null,
   "metadata": {},
   "outputs": [],
   "source": [
    "# Example solution\n",
    "\n",
    "# Make a Series of different foods\n",
    "foods = pd.Series([\"Almond butter\", \"Eggs\", \"Avocado\"])\n",
    "\n",
    "# Make a Series of different dollar values \n",
    "prices = pd.Series([9, 6, 2])\n",
    "\n",
    "# Combine your Series of foods and dollar values into a DataFrame\n",
    "food_data = pd.DataFrame({\"Foods\": foods,\n",
    "                          \"Price\": prices})\n",
    "\n",
    "food_data"
   ]
  },
  {
   "cell_type": "markdown",
   "metadata": {},
   "source": [
    "## 2. Importando datos\n",
    "\n",
    "Una forma mas sencilla de tener datos en pandas, es importandolos en forma de `csv` (_comma separated value_) o algún otro formato de planilla de cálculo.\n"
   ]
  },
  {
   "cell_type": "code",
   "execution_count": 2,
   "metadata": {},
   "outputs": [
    {
     "data": {
      "text/html": [
       "<div>\n",
       "<style scoped>\n",
       "    .dataframe tbody tr th:only-of-type {\n",
       "        vertical-align: middle;\n",
       "    }\n",
       "\n",
       "    .dataframe tbody tr th {\n",
       "        vertical-align: top;\n",
       "    }\n",
       "\n",
       "    .dataframe thead th {\n",
       "        text-align: right;\n",
       "    }\n",
       "</style>\n",
       "<table border=\"1\" class=\"dataframe\">\n",
       "  <thead>\n",
       "    <tr style=\"text-align: right;\">\n",
       "      <th></th>\n",
       "      <th>Make</th>\n",
       "      <th>Colour</th>\n",
       "      <th>Odometer (KM)</th>\n",
       "      <th>Doors</th>\n",
       "      <th>Price</th>\n",
       "    </tr>\n",
       "  </thead>\n",
       "  <tbody>\n",
       "    <tr>\n",
       "      <th>0</th>\n",
       "      <td>Toyota</td>\n",
       "      <td>White</td>\n",
       "      <td>150043</td>\n",
       "      <td>4</td>\n",
       "      <td>$4,000.00</td>\n",
       "    </tr>\n",
       "    <tr>\n",
       "      <th>1</th>\n",
       "      <td>Honda</td>\n",
       "      <td>Red</td>\n",
       "      <td>87899</td>\n",
       "      <td>4</td>\n",
       "      <td>$5,000.00</td>\n",
       "    </tr>\n",
       "    <tr>\n",
       "      <th>2</th>\n",
       "      <td>Toyota</td>\n",
       "      <td>Blue</td>\n",
       "      <td>32549</td>\n",
       "      <td>3</td>\n",
       "      <td>$7,000.00</td>\n",
       "    </tr>\n",
       "    <tr>\n",
       "      <th>3</th>\n",
       "      <td>BMW</td>\n",
       "      <td>Black</td>\n",
       "      <td>11179</td>\n",
       "      <td>5</td>\n",
       "      <td>$22,000.00</td>\n",
       "    </tr>\n",
       "    <tr>\n",
       "      <th>4</th>\n",
       "      <td>Nissan</td>\n",
       "      <td>White</td>\n",
       "      <td>213095</td>\n",
       "      <td>4</td>\n",
       "      <td>$3,500.00</td>\n",
       "    </tr>\n",
       "    <tr>\n",
       "      <th>5</th>\n",
       "      <td>Toyota</td>\n",
       "      <td>Green</td>\n",
       "      <td>99213</td>\n",
       "      <td>4</td>\n",
       "      <td>$4,500.00</td>\n",
       "    </tr>\n",
       "    <tr>\n",
       "      <th>6</th>\n",
       "      <td>Honda</td>\n",
       "      <td>Blue</td>\n",
       "      <td>45698</td>\n",
       "      <td>4</td>\n",
       "      <td>$7,500.00</td>\n",
       "    </tr>\n",
       "    <tr>\n",
       "      <th>7</th>\n",
       "      <td>Honda</td>\n",
       "      <td>Blue</td>\n",
       "      <td>54738</td>\n",
       "      <td>4</td>\n",
       "      <td>$7,000.00</td>\n",
       "    </tr>\n",
       "    <tr>\n",
       "      <th>8</th>\n",
       "      <td>Toyota</td>\n",
       "      <td>White</td>\n",
       "      <td>60000</td>\n",
       "      <td>4</td>\n",
       "      <td>$6,250.00</td>\n",
       "    </tr>\n",
       "    <tr>\n",
       "      <th>9</th>\n",
       "      <td>Nissan</td>\n",
       "      <td>White</td>\n",
       "      <td>31600</td>\n",
       "      <td>4</td>\n",
       "      <td>$9,700.00</td>\n",
       "    </tr>\n",
       "  </tbody>\n",
       "</table>\n",
       "</div>"
      ],
      "text/plain": [
       "     Make Colour  Odometer (KM)  Doors       Price\n",
       "0  Toyota  White         150043      4   $4,000.00\n",
       "1   Honda    Red          87899      4   $5,000.00\n",
       "2  Toyota   Blue          32549      3   $7,000.00\n",
       "3     BMW  Black          11179      5  $22,000.00\n",
       "4  Nissan  White         213095      4   $3,500.00\n",
       "5  Toyota  Green          99213      4   $4,500.00\n",
       "6   Honda   Blue          45698      4   $7,500.00\n",
       "7   Honda   Blue          54738      4   $7,000.00\n",
       "8  Toyota  White          60000      4   $6,250.00\n",
       "9  Nissan  White          31600      4   $9,700.00"
      ]
     },
     "execution_count": 2,
     "metadata": {},
     "output_type": "execute_result"
    }
   ],
   "source": [
    "# Importando tabla de ventas de autos\n",
    "# Si lo corremos desde Colab\n",
    "car_sales = pd.read_csv('https://raw.githubusercontent.com/matog/Flacso_ciencia_de_datos_python_2022/main/Clase2/data/car-sales.csv')\n",
    "\n",
    "# Si lo corremos desde nuestra máquina\n",
    "# car_sales = pd.read_csv('data/car-sales.csv') # Toma el nombre del archivo como una cádena como _input_\n",
    "car_sales"
   ]
  },
  {
   "cell_type": "markdown",
   "metadata": {},
   "source": [
    "Ahora, al contar con toda la información en un `DataFrame`, podemos aprovechar todas las ventajas de pandas.\n",
    "\n",
    "Otra práctica común (no obligatoria, pero recomendable) es denominar al `DataFrame` generado con la importación importada como `df` (abreviación de `DataFrame`)."
   ]
  },
  {
   "cell_type": "code",
   "execution_count": null,
   "metadata": {},
   "outputs": [],
   "source": [
    "# Importamos nuevamente la tabla y la guardamos en df.\n",
    "# Si lo corremos desde Colab\n",
    "car_sales = pd.read_csv('https://raw.githubusercontent.com/matog/Flacso_ciencia_de_datos_python_2022/main/Clase2/data/car-sales.csv')\n",
    "\n",
    "# Si lo corremos desde nuestra máquina\n",
    "# car_sales = pd.read_csv('data/car-sales.csv') \n",
    "df"
   ]
  },
  {
   "cell_type": "markdown",
   "metadata": {},
   "source": [
    "Ahora, `car_sales` y `df` contienen exactamente la misma información. La única diferencia es el nombre. Como con cualquier otra variable, podemos denominar al `DataFrame`de la forma que se quiera. Pero es mejor elegir una forma sencilla.\n",
    "\n",
    "### Anatomía de un DataFrame\n",
    "\n",
    "Distintas funciones utilizan distintas etiquetas para distintas tareas. El siguiente gráfico resume algunos de los componenes de un `DataFrame` y sus diferentes nombres.\n",
    "\n",
    "<img src=\"https://raw.githubusercontent.com/matog/Flacso_ciencia_de_datos_python_2022/main/Clase1/img/pandas-dataframe-anatomy.png\" alt=\"pandas dataframe with different sections labelled\" width=\"800\"/>\n"
   ]
  },
  {
   "cell_type": "markdown",
   "metadata": {},
   "source": [
    "## 3. Exportando datos\n",
    "\n",
    "Luego de efectuar algunas modificaciones en los datos, tal vez se quiera exportar la tabla, y grabarla.\n",
    "\n",
    "pandas permite exportar `DataFrame` a al formato `.csv` utilizando `.to_csv()` o a una planilla utilizando `.to_excel()`.\n",
    "\n",
    "Aunque no hagamos realizado ningún cambio aún, vamos a exportarlo."
   ]
  },
  {
   "cell_type": "code",
   "execution_count": null,
   "metadata": {},
   "outputs": [],
   "source": [
    "# Exportar el dataframe car sales a csv\n",
    "car_sales.to_csv(\"data/exported-car-sales.csv\")"
   ]
  },
  {
   "cell_type": "markdown",
   "metadata": {},
   "source": [
    "El código precedente va a generar un archivo denominado `export-car-sales.csv` en la misma carpeta del notebook.\n"
   ]
  },
  {
   "cell_type": "markdown",
   "metadata": {},
   "source": [
    "## 4. Describiendo los datos\n",
    "\n",
    "Una vez importados los datos a un `DataFrame`, lo primero que vamos a hacer es explorarlo.\n",
    "\n",
    "Pandas tiene muchas funciones que permiten de manera rápida obtener información en el `DataFrame`.\n"
   ]
  },
  {
   "cell_type": "code",
   "execution_count": null,
   "metadata": {},
   "outputs": [],
   "source": [
    "car_sales"
   ]
  },
  {
   "cell_type": "markdown",
   "metadata": {},
   "source": [
    "`.dtypes` muestra que tipo de datos tenemos en cada columna."
   ]
  },
  {
   "cell_type": "code",
   "execution_count": null,
   "metadata": {},
   "outputs": [],
   "source": [
    "car_sales.dtypes"
   ]
  },
  {
   "cell_type": "markdown",
   "metadata": {},
   "source": [
    "Observar que la columna `Price` no es una integer como `Odometer` o `Doors`. Pero no hay que preocuparse, con pandas es muy sencillo arreglarlo."
   ]
  },
  {
   "cell_type": "markdown",
   "metadata": {},
   "source": [
    "`.describe()` nos da una vista rápida con información estadística de las columnas numéricas."
   ]
  },
  {
   "cell_type": "code",
   "execution_count": null,
   "metadata": {},
   "outputs": [],
   "source": [
    "car_sales.describe()"
   ]
  },
  {
   "cell_type": "markdown",
   "metadata": {},
   "source": [
    "`.info()` muestra información útil sobre el `DataFrame`, como por ejemplo: \n",
    "* Cuantos registros (rows, filas) tiene \n",
    "* Si tiene _missing values_(si los valores no nulos de una columna es menor a la cantidad de registros, entonces tiene _missing values_)\n",
    "* Los tipo de datos de cada columna"
   ]
  },
  {
   "cell_type": "code",
   "execution_count": null,
   "metadata": {},
   "outputs": [],
   "source": [
    "car_sales.info()"
   ]
  },
  {
   "cell_type": "markdown",
   "metadata": {},
   "source": [
    "Sumado a esto, se pueden utilizar varios métodos estadísticos y matemáticos como `.mean()` o `.sum()` de forma directa sobre un `DataFrame` o `Series`."
   ]
  },
  {
   "cell_type": "code",
   "execution_count": null,
   "metadata": {},
   "outputs": [],
   "source": [
    "# .mean() en un DataFrame\n",
    "car_sales.mean()"
   ]
  },
  {
   "cell_type": "code",
   "execution_count": null,
   "metadata": {},
   "outputs": [],
   "source": [
    "# .mean() en Series\n",
    "car_prices = pd.Series([3000, 3500, 11250])\n",
    "car_prices.mean()"
   ]
  },
  {
   "cell_type": "code",
   "execution_count": null,
   "metadata": {},
   "outputs": [],
   "source": [
    "# .sum() en un DataFrame\n",
    "car_sales.sum()"
   ]
  },
  {
   "cell_type": "code",
   "execution_count": null,
   "metadata": {},
   "outputs": [],
   "source": [
    "# .sum() en Series\n",
    "car_prices.sum()"
   ]
  },
  {
   "cell_type": "markdown",
   "metadata": {},
   "source": [
    "Tal vez utilizar estas funciones sobre un `DataFrame` no sea de demasiada utilidad. Lo mejor es utilizarlas en columnas individuales.\n",
    "\n",
    "`.columns` muestra todas las columnas del `DataFrame`."
   ]
  },
  {
   "cell_type": "code",
   "execution_count": null,
   "metadata": {},
   "outputs": [],
   "source": [
    "car_sales.columns"
   ]
  },
  {
   "cell_type": "markdown",
   "metadata": {},
   "source": [
    "Podemos guardar la lista de columnas en una lista para utilizarla mas tarde."
   ]
  },
  {
   "cell_type": "code",
   "execution_count": null,
   "metadata": {},
   "outputs": [],
   "source": [
    "# Columnas a una lista\n",
    "car_columns = car_sales.columns\n",
    "car_columns[0]"
   ]
  },
  {
   "cell_type": "markdown",
   "metadata": {},
   "source": [
    "`.index` muestra los valores del indice de un `DataFrame`. (la primer columna de la izquierda)."
   ]
  },
  {
   "cell_type": "code",
   "execution_count": null,
   "metadata": {},
   "outputs": [],
   "source": [
    "car_sales.index"
   ]
  },
  {
   "cell_type": "markdown",
   "metadata": {},
   "source": [
    "Los `DataFrame` de pandas, al igual que las listas de Python, comienzan a indexarse desde el 0 (_0-indexed_)"
   ]
  },
  {
   "cell_type": "code",
   "execution_count": null,
   "metadata": {},
   "outputs": [],
   "source": [
    "# Mostramos la longitud de un DataFrame\n",
    "len(car_sales)"
   ]
  },
  {
   "cell_type": "markdown",
   "metadata": {},
   "source": [
    "Dado que la longitud de nuestro datarame `car_sales` es 10, significa que los indices van de 0-9."
   ]
  },
  {
   "cell_type": "markdown",
   "metadata": {},
   "source": [
    "## 5. Mostrando y selecccionado datos\n",
    "* `head()`\n",
    "* `tail()`\n",
    "* `loc`\n",
    "* `iloc`\n",
    "* `columns` - `df['A']`\n",
    "* _boolean indexing_ - `df[df['A'] > 5]`\n",
    "* `crosstab()`\n",
    "* `.plot()`\n",
    "* `hist()`\n",
    "\n",
    "En la práctica, vamos a estar constantemente moficiando los datos, mostrándolos, y modificandolos nuevamente.\n",
    "\n",
    "Para mostrar datos, la forma mas sencilla es utilizar `.head()`, que muestra las primeras 5 filas del `DataFrame`. "
   ]
  },
  {
   "cell_type": "code",
   "execution_count": null,
   "metadata": {},
   "outputs": [],
   "source": [
    "# Mostrar las primeros 5 filas de car_sales\n",
    "car_sales.head()"
   ]
  },
  {
   "cell_type": "markdown",
   "metadata": {},
   "source": [
    "Why 5 rows? Good question. I don't know the answer. But 5 seems like a good amount.\n",
    "\n",
    "Want more than 5?\n",
    "\n",
    "No worries, you can pass `.head()` an integer to display more than or less than 5 rows."
   ]
  },
  {
   "cell_type": "code",
   "execution_count": null,
   "metadata": {},
   "outputs": [],
   "source": [
    "# Mostrar las primeros 7 filas de car_sales\n",
    "car_sales.head(7)"
   ]
  },
  {
   "cell_type": "markdown",
   "metadata": {},
   "source": [
    "`.tail()` muestra las últimas 5 filas del `DataFrame`."
   ]
  },
  {
   "cell_type": "code",
   "execution_count": null,
   "metadata": {},
   "outputs": [],
   "source": [
    "# Muestras la últimas 5 filas de car_sales\n",
    "car_sales.tail()"
   ]
  },
  {
   "cell_type": "markdown",
   "metadata": {},
   "source": [
    "Para seleccionar datos de las `Series` o del `Dataframe`, se puede utilizar `.loc[]` y `.iloc[]`.\n"
   ]
  },
  {
   "cell_type": "code",
   "execution_count": null,
   "metadata": {},
   "outputs": [],
   "source": [
    "# Creamos una serie de ejemplo\n",
    "animals = pd.Series([\"cat\", \"dog\", \"bird\", \"snake\", \"ox\", \"lion\"], \n",
    "                   index=[0, 3, 9, 8, 67, 3])\n",
    "animals"
   ]
  },
  {
   "cell_type": "markdown",
   "metadata": {},
   "source": [
    "`.loc[]` toma un _integer_ como argumento. Y seleccionar de la `Series` o del `DataFrame`el indice que coincide con el _integer."
   ]
  },
  {
   "cell_type": "code",
   "execution_count": null,
   "metadata": {},
   "outputs": [],
   "source": [
    "# Selecciona todos los indices 3\n",
    "animals.loc[3]"
   ]
  },
  {
   "cell_type": "code",
   "execution_count": null,
   "metadata": {},
   "outputs": [],
   "source": [
    "# Selecciona el indice 9\n",
    "animals.loc[9]"
   ]
  },
  {
   "cell_type": "markdown",
   "metadata": {},
   "source": [
    "Ahora vamos a utilizar el dataframe `car_sales`"
   ]
  },
  {
   "cell_type": "code",
   "execution_count": null,
   "metadata": {},
   "outputs": [],
   "source": [
    "car_sales"
   ]
  },
  {
   "cell_type": "code",
   "execution_count": null,
   "metadata": {},
   "outputs": [],
   "source": [
    "# Seleccionar la fila en el indice 3\n",
    "car_sales.loc[3]"
   ]
  },
  {
   "cell_type": "markdown",
   "metadata": {},
   "source": [
    "`iloc[]` realizar una tarea similar pero trabaja con la posiciones exactas.\n"
   ]
  },
  {
   "cell_type": "code",
   "execution_count": null,
   "metadata": {},
   "outputs": [],
   "source": [
    "animals"
   ]
  },
  {
   "cell_type": "code",
   "execution_count": null,
   "metadata": {},
   "outputs": [],
   "source": [
    "# Seleccionar la fila de la position 3\n",
    "animals.iloc[3]"
   ]
  },
  {
   "cell_type": "markdown",
   "metadata": {},
   "source": [
    "A pesar que `'snake'`figura en el indice 8 en la seria, se muestra utilizando `.iloc[3]` debudi a que se encuentra en la tercer posición (arrancando de cero).\n"
   ]
  },
  {
   "cell_type": "code",
   "execution_count": null,
   "metadata": {},
   "outputs": [],
   "source": [
    "# File en la posición 3\n",
    "car_sales.iloc[3]"
   ]
  },
  {
   "cell_type": "markdown",
   "metadata": {},
   "source": [
    "Podemos ver que es lo mismo que `.loc[]` debido a que el indice está ordenado. La posición 3 es a su vez, el indice 3.\n",
    "\n",
    "También podemos hacer _slicing_ con `.loc[]` y `.iloc[]`."
   ]
  },
  {
   "cell_type": "code",
   "execution_count": null,
   "metadata": {},
   "outputs": [],
   "source": [
    "# Todas las filas hasta la posición 3\n",
    "animals.iloc[:3]"
   ]
  },
  {
   "cell_type": "code",
   "execution_count": null,
   "metadata": {},
   "outputs": [],
   "source": [
    "# Todas las filas hasta (e incluyendo) el índice 3\n",
    "car_sales.loc[:3]"
   ]
  },
  {
   "cell_type": "markdown",
   "metadata": {},
   "source": [
    "Cuando utilizar `.loc[]` o `.iloc[]`?\n",
    "* Utilizamos `.loc[]` cuando nos referimos a **índeces**.\n",
    "* Utilizamos `.iloc[]` cuando nos referimos a **posiciones** en el `DataFrame`."
   ]
  },
  {
   "cell_type": "markdown",
   "metadata": {},
   "source": [
    "Si queremos seleccionar alguna columna particular, utilizamos `['NOMBRE_DE_COLUMNA']`."
   ]
  },
  {
   "cell_type": "code",
   "execution_count": null,
   "metadata": {},
   "outputs": [],
   "source": [
    "# Columna Make\n",
    "car_sales['Make']"
   ]
  },
  {
   "cell_type": "code",
   "execution_count": null,
   "metadata": {},
   "outputs": [],
   "source": [
    "# Select Colour column\n",
    "car_sales['Colour']"
   ]
  },
  {
   "cell_type": "markdown",
   "metadata": {},
   "source": [
    "Boolean indexing works with column selection too. Using it will select the rows which fulfill the condition in the brackets."
   ]
  },
  {
   "cell_type": "code",
   "execution_count": null,
   "metadata": {},
   "outputs": [],
   "source": [
    "# Seleccionamos automóviles con mas de 100,000 en Odometer\n",
    "car_sales[car_sales[\"Odometer (KM)\"] > 100000]"
   ]
  },
  {
   "cell_type": "code",
   "execution_count": null,
   "metadata": {},
   "outputs": [],
   "source": [
    "# Autos que son fabricados por Toyota\n",
    "car_sales[car_sales[\"Make\"] == \"Toyota\"]"
   ]
  },
  {
   "cell_type": "markdown",
   "metadata": {},
   "source": [
    "`pd.crosstab()` es una forma de ver dos columnas diferentes, juntas, y compararlas."
   ]
  },
  {
   "cell_type": "code",
   "execution_count": null,
   "metadata": {},
   "outputs": [],
   "source": [
    "# Comparamos Make con Doors\n",
    "pd.crosstab(car_sales[\"Make\"], car_sales[\"Doors\"])"
   ]
  },
  {
   "cell_type": "markdown",
   "metadata": {},
   "source": [
    "Si queremos comparar mas columnas, podemos utilizar `.groupby()`."
   ]
  },
  {
   "cell_type": "code",
   "execution_count": null,
   "metadata": {},
   "outputs": [],
   "source": [
    "car_sales"
   ]
  },
  {
   "cell_type": "code",
   "execution_count": null,
   "metadata": {},
   "outputs": [],
   "source": [
    "# Agrupamos por la columna Make, y calculamos la media del resto de las columnas. \n",
    "car_sales.groupby([\"Make\"]).mean()"
   ]
  },
  {
   "cell_type": "markdown",
   "metadata": {},
   "source": [
    "Pandas permite graficar columnas de forma rápida, de forma de ver los datos de manera gráfica. Para esto, es necesario importar `matplotlib`. En caso que los gráficos no se muestren, se puede intentar corriendo `%matplotlib inline`, que es un comando especial que le indica a Jupyter que muestre los gráficos. Los comandos con `%` en el inicio se llaman _comandos mágicos_ (_magic commands_)."
   ]
  },
  {
   "cell_type": "code",
   "execution_count": null,
   "metadata": {},
   "outputs": [],
   "source": [
    "#!pip install matplotlib"
   ]
  },
  {
   "cell_type": "code",
   "execution_count": null,
   "metadata": {},
   "outputs": [],
   "source": [
    "# Import matplotlib and tell Jupyter to show plots\n",
    "import matplotlib.pyplot as plt\n",
    "%matplotlib inline"
   ]
  },
  {
   "cell_type": "markdown",
   "metadata": {},
   "source": [
    "Podemos graficar una columna llamando al comando `.plot()`."
   ]
  },
  {
   "cell_type": "code",
   "execution_count": null,
   "metadata": {},
   "outputs": [],
   "source": [
    "car_sales[\"Odometer (KM)\"].plot()"
   ]
  },
  {
   "cell_type": "markdown",
   "metadata": {},
   "source": [
    "Para graficar un histograma utilizamos `.hist()`.\n",
    "\n",
    "La distribución de cualquier columna es una forma de ver la dispersión de los valores."
   ]
  },
  {
   "cell_type": "code",
   "execution_count": null,
   "metadata": {},
   "outputs": [],
   "source": [
    "car_sales[\"Odometer (KM)\"].hist()"
   ]
  },
  {
   "cell_type": "markdown",
   "metadata": {},
   "source": [
    "En este caso, la mayoría de la **distribution** de la columna `\"Odometer\"` está sesgada hacia la izquierda del gráfico. Y tiene dos valores mas sobre la derecha. Estos dos valores pueden considerarse **outliers**.\n",
    "\n",
    "Que pasa si queremos graficar la columna `\"Price\"`?\n"
   ]
  },
  {
   "cell_type": "code",
   "execution_count": null,
   "metadata": {},
   "outputs": [],
   "source": [
    "car_sales[\"Price\"].plot()"
   ]
  },
  {
   "cell_type": "markdown",
   "metadata": {},
   "source": [
    "Trying to run it leaves us with an error. This is because the `\"Price\"` column of `car_sales` isn't in numeric form. We can tell this because of the `TypeError: no numeric data to plot` at the bottom of the cell.\n",
    "\n",
    "We can check this with `.info()`."
   ]
  },
  {
   "cell_type": "code",
   "execution_count": null,
   "metadata": {},
   "outputs": [],
   "source": [
    "car_sales.info()"
   ]
  },
  {
   "cell_type": "markdown",
   "metadata": {},
   "source": [
    "Cómo podemos solucionarlo?\n",
    "\n",
    "Necesitamos convertir la columna `\"Price\"` a una de tipo numérico.\n",
    "\n",
    "Cómo lo hacemos?\n",
    "\n",
    "Podemos probar algunas cosas, pero mejor aprender investigando...\n",
    "\n",
    "\n",
    "**1.** Abrimos un navegador con un buscador, y tipeamos algo asi como \"how to convert a pandas column price to integer\", o \"como convertir una columna de precio a un número en pandas\" (que seguramente traiga menor cantidad de resultados)\n",
    "\n",
    "Entre los primeros resultados, encontré [Stack Overflow question and answer](https://stackoverflow.com/questions/44469313/price-column-object-to-int-in-pandas), donde alguien tiene un problema similar, y otro usuario le brinda una solución.\n",
    "\n",
    "**Observación:** A veces la respuesta que buscamos no es la primer respuesta, ni la segunda ni la tercera. Tenemos que combinar algunas propuestas de diferentes soluciones.\n",
    "\n",
    "**2.** En la práctica, leemos las respuestas, y analizamos si está relacionado a nuestro problema.\n",
    "\n",
    "**3.** En caso que así sea, se puede modificar y ajustar el código de las respuestas de Stack Overflow a nuestro problema.\n",
    "\n",
    "\n",
    "Lo importante no es recordar cada detalle de memoria, pero si saber donde buscar. Ante la duda, correr el código y ver que resultado arroja.\n",
    "\n",
    "Copiamos el código de la respuesta y analizamos si resulve el problema.\n",
    "\n",
    "Respuesta: ```dataframe['amount'] = dataframe['amount'].str.replace('[\\$\\,\\.]', '').astype(int)```\n",
    "\n",
    "Hay demasiadas \"cosas\" en esa respuesta, pero podemos ir modificando por partes, y ver como se ajusta,\n",
    "\n",
    "Nuestro `DataFrame` se llama `car_sales`, no `dataframe`.\n",
    "\n",
    "```car_sales['amount'] = car_sales['amount'].str.replace('[\\$\\,\\.]', '').astype(int)```\n",
    "\n",
    "Y nuestra la columna `'amount'`, en nuestro set de datos se llama `\"Price\"`.\n",
    "\n",
    "```car_sales[\"Price\"] = car_sales[\"Price\"].str.replace('[\\$\\,\\.]', '').astype(int)```\n",
    "\n",
    "Lo que indica el código final es \"borrar el signo $, el punto y la coma, y convertir la columna a int\"\n",
    "\n",
    "Corramos el código y veamos que pasa."
   ]
  },
  {
   "cell_type": "code",
   "execution_count": null,
   "metadata": {},
   "outputs": [],
   "source": [
    "# Change Price column to integers\n",
    "car_sales[\"Price\"] = car_sales[\"Price\"].str.replace('[\\$\\,\\.]', '').astype(int)"
   ]
  },
  {
   "cell_type": "code",
   "execution_count": null,
   "metadata": {},
   "outputs": [],
   "source": [
    "car_sales"
   ]
  },
  {
   "cell_type": "markdown",
   "metadata": {},
   "source": [
    "Perfecto! Ahora, grafiquemos"
   ]
  },
  {
   "cell_type": "code",
   "execution_count": null,
   "metadata": {},
   "outputs": [],
   "source": [
    "car_sales[\"Price\"].plot()"
   ]
  },
  {
   "cell_type": "markdown",
   "metadata": {},
   "source": [
    "Esta es una forma de manipular datos utilizando pandas. \n",
    "\n",
    "Cuando el código presenta diferentes funciones en una fila, se denomina **chaining** (encadenamiento). Esto significa que podemos sumar una serie de funciones para que se ejecuten en la misma tarea.\n",
    "\n",
    "Veamos como manipular los datos."
   ]
  },
  {
   "cell_type": "markdown",
   "metadata": {},
   "source": [
    "## 6. Manipulando datos\n",
    "\n",
    "Ya vimos un caso de manipulación de datos, pero hay muchos mas. Cuantos mas? Todos los que necesitemos. Si hay un problema, pandas tiene una solución\n",
    "\n",
    "Comencemos con los métodos sobre cadenas de texto (_strings_). Dado que panda está basado en  Python, como se manipulan _strings_ en Python, lo podemos hacer también en pandas.\n",
    "\n",
    "Podemos acceder al valor _string_ de una columna con `.str`. Entonces, para convertir una columna a minúscula, utilizamos:"
   ]
  },
  {
   "cell_type": "code",
   "execution_count": null,
   "metadata": {},
   "outputs": [],
   "source": [
    "# Columna Make en minúscula\n",
    "car_sales[\"Make\"].str.lower()"
   ]
  },
  {
   "cell_type": "markdown",
   "metadata": {},
   "source": [
    "Notar que no cambiar el valor original de la  `DataFrame` `car_sales`, hasta tanto no indiquemos que es igual al resultado."
   ]
  },
  {
   "cell_type": "code",
   "execution_count": null,
   "metadata": {},
   "outputs": [],
   "source": [
    "# Mostrar las 5 filas superiores de la columna Make\n",
    "car_sales.head()"
   ]
  },
  {
   "cell_type": "code",
   "execution_count": null,
   "metadata": {},
   "outputs": [],
   "source": [
    "# Convertimos columna Make en minúscula\n",
    "car_sales[\"Make\"] = car_sales[\"Make\"].str.lower()\n",
    "car_sales.head()"
   ]
  },
  {
   "cell_type": "markdown",
   "metadata": {},
   "source": [
    "De esta forma, tomamos los cambios en la columna Make, modificando el `DataFrame` original. \n",
    "\n",
    "Algunas funciones tienen un parametro denominado `inplace`, que indica que el `DataFrame`es actualizado al momento de correr la función, sin necesidad de reasiganrlo con la igualdad.\n",
    "\n",
    "Analicemos el caso de `.fillna()`, una función que copleta los valores `missing` del `DataFrame`. El problema es que nuestros datos no poseen valores `missing`.\n",
    "\n",
    "En la práctica, es muy probable que tengamos que lidiar con valores `missing`..\n",
    "\n",
    "Vamos a cargar un dataset con valores `missing` para testear."
   ]
  },
  {
   "cell_type": "code",
   "execution_count": 3,
   "metadata": {},
   "outputs": [
    {
     "data": {
      "text/html": [
       "<div>\n",
       "<style scoped>\n",
       "    .dataframe tbody tr th:only-of-type {\n",
       "        vertical-align: middle;\n",
       "    }\n",
       "\n",
       "    .dataframe tbody tr th {\n",
       "        vertical-align: top;\n",
       "    }\n",
       "\n",
       "    .dataframe thead th {\n",
       "        text-align: right;\n",
       "    }\n",
       "</style>\n",
       "<table border=\"1\" class=\"dataframe\">\n",
       "  <thead>\n",
       "    <tr style=\"text-align: right;\">\n",
       "      <th></th>\n",
       "      <th>Make</th>\n",
       "      <th>Colour</th>\n",
       "      <th>Odometer</th>\n",
       "      <th>Doors</th>\n",
       "      <th>Price</th>\n",
       "    </tr>\n",
       "  </thead>\n",
       "  <tbody>\n",
       "    <tr>\n",
       "      <th>0</th>\n",
       "      <td>Toyota</td>\n",
       "      <td>White</td>\n",
       "      <td>150043.0</td>\n",
       "      <td>4.0</td>\n",
       "      <td>$4,000</td>\n",
       "    </tr>\n",
       "    <tr>\n",
       "      <th>1</th>\n",
       "      <td>Honda</td>\n",
       "      <td>Red</td>\n",
       "      <td>87899.0</td>\n",
       "      <td>4.0</td>\n",
       "      <td>$5,000</td>\n",
       "    </tr>\n",
       "    <tr>\n",
       "      <th>2</th>\n",
       "      <td>Toyota</td>\n",
       "      <td>Blue</td>\n",
       "      <td>NaN</td>\n",
       "      <td>3.0</td>\n",
       "      <td>$7,000</td>\n",
       "    </tr>\n",
       "    <tr>\n",
       "      <th>3</th>\n",
       "      <td>BMW</td>\n",
       "      <td>Black</td>\n",
       "      <td>11179.0</td>\n",
       "      <td>5.0</td>\n",
       "      <td>$22,000</td>\n",
       "    </tr>\n",
       "    <tr>\n",
       "      <th>4</th>\n",
       "      <td>Nissan</td>\n",
       "      <td>White</td>\n",
       "      <td>213095.0</td>\n",
       "      <td>4.0</td>\n",
       "      <td>$3,500</td>\n",
       "    </tr>\n",
       "    <tr>\n",
       "      <th>5</th>\n",
       "      <td>Toyota</td>\n",
       "      <td>Green</td>\n",
       "      <td>NaN</td>\n",
       "      <td>4.0</td>\n",
       "      <td>$4,500</td>\n",
       "    </tr>\n",
       "    <tr>\n",
       "      <th>6</th>\n",
       "      <td>Honda</td>\n",
       "      <td>NaN</td>\n",
       "      <td>NaN</td>\n",
       "      <td>4.0</td>\n",
       "      <td>$7,500</td>\n",
       "    </tr>\n",
       "    <tr>\n",
       "      <th>7</th>\n",
       "      <td>Honda</td>\n",
       "      <td>Blue</td>\n",
       "      <td>NaN</td>\n",
       "      <td>4.0</td>\n",
       "      <td>NaN</td>\n",
       "    </tr>\n",
       "    <tr>\n",
       "      <th>8</th>\n",
       "      <td>Toyota</td>\n",
       "      <td>White</td>\n",
       "      <td>60000.0</td>\n",
       "      <td>NaN</td>\n",
       "      <td>NaN</td>\n",
       "    </tr>\n",
       "    <tr>\n",
       "      <th>9</th>\n",
       "      <td>NaN</td>\n",
       "      <td>White</td>\n",
       "      <td>31600.0</td>\n",
       "      <td>4.0</td>\n",
       "      <td>$9,700</td>\n",
       "    </tr>\n",
       "  </tbody>\n",
       "</table>\n",
       "</div>"
      ],
      "text/plain": [
       "     Make Colour  Odometer  Doors    Price\n",
       "0  Toyota  White  150043.0    4.0   $4,000\n",
       "1   Honda    Red   87899.0    4.0   $5,000\n",
       "2  Toyota   Blue       NaN    3.0   $7,000\n",
       "3     BMW  Black   11179.0    5.0  $22,000\n",
       "4  Nissan  White  213095.0    4.0   $3,500\n",
       "5  Toyota  Green       NaN    4.0   $4,500\n",
       "6   Honda    NaN       NaN    4.0   $7,500\n",
       "7   Honda   Blue       NaN    4.0      NaN\n",
       "8  Toyota  White   60000.0    NaN      NaN\n",
       "9     NaN  White   31600.0    4.0   $9,700"
      ]
     },
     "execution_count": 3,
     "metadata": {},
     "output_type": "execute_result"
    }
   ],
   "source": [
    "# Import car sales data with missing values\n",
    "# Si lo corremos desde Colab\n",
    "car_sales_missing = pd.read_csv('https://raw.githubusercontent.com/matog/Flacso_ciencia_de_datos_python_2022/main/Clase2/data/car-sales-missing-data.csv')\n",
    "\n",
    "# Si lo corremos desde nuestra máquina\n",
    "# car_sales = pd.read_csv('data/car-sales.csv') \n",
    "#car_sales_missing = pd.read_csv(\"data/car-sales-missing-data.csv\")\n",
    "car_sales_missing"
   ]
  },
  {
   "cell_type": "markdown",
   "metadata": {},
   "source": [
    "Los valores `missing` se muestran como `NaN` en Pandas.\n",
    "\n",
    "Vamos a utilizar la función `.fillna()` para completar los NaN de la columna `Odometer` con los promedios de los otros valores de la misma columna.\n",
    "\n",
    "Lo haremos con y sin `inplace`."
   ]
  },
  {
   "cell_type": "code",
   "execution_count": null,
   "metadata": {},
   "outputs": [],
   "source": [
    "# Completamos Odometer con la media \n",
    "car_sales_missing[\"Odometer\"].fillna(car_sales_missing[\"Odometer\"].mean(), \n",
    "                                     inplace=False) # inplace es False por defecto."
   ]
  },
  {
   "cell_type": "markdown",
   "metadata": {},
   "source": [
    "Verifiquemos la columna `car_sales_missing`"
   ]
  },
  {
   "cell_type": "code",
   "execution_count": null,
   "metadata": {},
   "outputs": [],
   "source": [
    "car_sales_missing"
   ]
  },
  {
   "cell_type": "markdown",
   "metadata": {},
   "source": [
    "Como `inplace` está seteado en `False`, todavía tenemos valores `missing` en la columna `\"Odometer\"`. "
   ]
  },
  {
   "cell_type": "code",
   "execution_count": null,
   "metadata": {},
   "outputs": [],
   "source": [
    "# Completamos Odometer con la media, inplace=True\n",
    "car_sales_missing[\"Odometer\"].fillna(car_sales_missing[\"Odometer\"].mean(),\n",
    "                                     inplace=True)"
   ]
  },
  {
   "cell_type": "code",
   "execution_count": null,
   "metadata": {},
   "outputs": [],
   "source": [
    "car_sales_missing"
   ]
  },
  {
   "cell_type": "markdown",
   "metadata": {},
   "source": [
    "Los valores `missing` de la columna `Odometer` se completaron con el valor medio de la misma columna.\n",
    "\n",
    "En la práctica, tal vez no se quiera completar con la media, pero esto fue sólo un ejemplo.\n",
    "\n",
    "\n",
    "Todavía existen valores `missing` en `car_sales_missing`. Supongamos que queremos eliminar cualquier fila (observación) que posea un NaN y sólo trabajar con las observaciones que tiene info completa.\n",
    "\n",
    "Esto lo podemos hacer con `.dropna()`."
   ]
  },
  {
   "cell_type": "code",
   "execution_count": null,
   "metadata": {},
   "outputs": [],
   "source": [
    "# Borramos missing values\n",
    "car_sales_missing.dropna()"
   ]
  },
  {
   "cell_type": "markdown",
   "metadata": {},
   "source": [
    "Parece que las columnas con NaN se borraron. Verifiquemos"
   ]
  },
  {
   "cell_type": "code",
   "execution_count": null,
   "metadata": {},
   "outputs": [],
   "source": [
    "car_sales_missing"
   ]
  },
  {
   "cell_type": "markdown",
   "metadata": {},
   "source": [
    "Todavía aparecen valores NaN. Esto es porque `.dropna()` tiene `inplace=False` por default. Podemos utilizar `inplace=True` o reasignar los valores en el `DataFrame` `car_sales_missing`"
   ]
  },
  {
   "cell_type": "code",
   "execution_count": null,
   "metadata": {},
   "outputs": [],
   "source": [
    "# Cada una de las lineas de código hacen lo mismo\n",
    "car_sales_missing.dropna(inplace=True) \n",
    "car_sales_missing = car_sales_missing.dropna() "
   ]
  },
  {
   "cell_type": "markdown",
   "metadata": {},
   "source": [
    "Ahora verifiquemos si continuan los valores NaN."
   ]
  },
  {
   "cell_type": "code",
   "execution_count": null,
   "metadata": {},
   "outputs": [],
   "source": [
    "car_sales_missing"
   ]
  },
  {
   "cell_type": "markdown",
   "metadata": {},
   "source": [
    "En vez de eliminar la información incompleta, como podríamos completar info en el `DataFrame`?\n",
    "\n",
    "Por ejemplo, podemos crear una columna `Seats` para indicar el número de asientos.\n",
    "\n",
    "Pandas permite agregar columnas de tres sencillas formas: desde una serie, con una lista de Python o utilizando otras columnas."
   ]
  },
  {
   "cell_type": "code",
   "execution_count": null,
   "metadata": {},
   "outputs": [],
   "source": [
    "# Crear columna desde una serie de pandas\n",
    "seats_column = pd.Series([5, 5, 5, 5, 5, 5, 5, 5, 5, 5])\n",
    "car_sales[\"Seats\"] = seats_column\n",
    "car_sales"
   ]
  },
  {
   "cell_type": "code",
   "execution_count": null,
   "metadata": {},
   "outputs": [],
   "source": [
    "# Crear columna desde una lista de Python \n",
    "engine_sizes = [1.3, 2.0, 3.0, 4.2, 1.6, 1, 2.0, 2.3, 2.0, 3.0]\n",
    "car_sales[\"Engine Size\"] = engine_sizes\n",
    "car_sales"
   ]
  },
  {
   "cell_type": "markdown",
   "metadata": {},
   "source": [
    "También podemos crear columnas combinando valres de otras. Ejemplo: precio por kilometro."
   ]
  },
  {
   "cell_type": "code",
   "execution_count": null,
   "metadata": {},
   "outputs": [],
   "source": [
    "# Crear columna desde otra columna\n",
    "car_sales[\"Price per KM\"] = car_sales[\"Price\"] / car_sales[\"Odometer (KM)\"]\n",
    "car_sales"
   ]
  },
  {
   "cell_type": "markdown",
   "metadata": {},
   "source": [
    "La última columna creada, realmente suma información y simplifica el análisis?\n",
    "\n",
    "Es contradictorio que un auto con menos kilómetros tenga un precio por km mayor que otro con mas kilómetros. Cuando compramos un auto, por lo general, que tenga menos kilómetros es mejor.\n",
    "\n",
    "Esta forma de creación de columnas se denomina **feature engineering**. Si `Make`, `Colour`, `Doors` son características (_features_) de los datos, crear `Price per KM` puede ser otra. Pero en este caso, no es una buena *feature*\n",
    "\n",
    "Cuando creamos columnas, también es posible crear una nueva con un valor standard para todas las observaciones."
   ]
  },
  {
   "cell_type": "code",
   "execution_count": null,
   "metadata": {},
   "outputs": [],
   "source": [
    "# Columna con un valor standartd (number of wheels)\n",
    "car_sales[\"Number of wheels\"] = 4\n",
    "car_sales"
   ]
  },
  {
   "cell_type": "code",
   "execution_count": null,
   "metadata": {},
   "outputs": [],
   "source": [
    "car_sales[\"Passed road safety\"] = True\n",
    "car_sales"
   ]
  },
  {
   "cell_type": "markdown",
   "metadata": {},
   "source": [
    "Si no estamos conformes con algunas de las _features_ de la base, podemos eliminarla utilizando `.drop('COLUMN_NAME', axis=1)`."
   ]
  },
  {
   "cell_type": "code",
   "execution_count": null,
   "metadata": {},
   "outputs": [],
   "source": [
    "# \"Droppeamos\" la columna Price per KM\n",
    "car_sales = car_sales.drop(\"Price per KM\", axis=1)\n",
    "car_sales"
   ]
  },
  {
   "cell_type": "markdown",
   "metadata": {},
   "source": [
    "Que implica el término `axis=1`? Porque representa a las columnas. Las filas se toman como `axis=0`.\n",
    "\n",
    "Supongamos que queremos ordenar de forma aleatoria nuestro `DataFrame`, para poder dividirlo para correr algun algoritmo de _machine learning_ (_train, validation y test_). Por mas que consideremos que no tiene ningún orden lógico, queremos asegurarnos.\n",
    "\n",
    "Para hacerlo, utilizamos `.sample(frac=1)`. \n",
    "\n",
    "`.sample()` toma filas de forma aleatoria del `DataFrame`. El parámetro `frac` indica la fracción, donde 1 = 100% de las filas, 0.5 = 50% de las filas, 0.01 = 1% de las filas."
   ]
  },
  {
   "cell_type": "code",
   "execution_count": null,
   "metadata": {},
   "outputs": [],
   "source": [
    "# Muestra de car_sales\n",
    "car_sales_sampled = car_sales.sample(frac=1)\n",
    "car_sales_sampled"
   ]
  },
  {
   "cell_type": "markdown",
   "metadata": {},
   "source": [
    "Observar que las filas son las mismas, pero el orden es difernte (mirar los ínidices).\n",
    "\n",
    "\n",
    "`.sample(frac=X)` también es de gran ayuda si estamos trabajando con una `DataFrame` extenso. Por ejemplo 2.000.000 filas.\n",
    "\n",
    "Correr test, analisis y algoritmos de machine learning en 2.000.000 de observaciones puede tomar mucho tiempo, y a veces es conveniente arrancar con una pequeña muestra.\n",
    "\n",
    "Por ejemplo, podemos utilizar `40k_rows = 2_millones_filas.sample(frac=0.05)` para trabajar con 40.000 filas del  `DataFrame` denominado `2_millones_filas` que contiene 2.000.000 de filas.\n",
    "\n",
    "Como hacemos para tener los índices en orden nuevamente? Utilizamos `.reset_index()`."
   ]
  },
  {
   "cell_type": "code",
   "execution_count": null,
   "metadata": {},
   "outputs": [],
   "source": [
    "# Reseteo de los índices de car_sales_sampled\n",
    "car_sales_sampled.reset_index()"
   ]
  },
  {
   "cell_type": "markdown",
   "metadata": {},
   "source": [
    "Corriendo `.reset_index()` en un `DataFrame` resetea los números de los indices a los default. También crea una nueva columna `Index` que contiene el valor anterior de los índices.\n",
    "\n",
    "Por último, que ocurre si queremos aplicar una función en una columna? Por ejemplo, convertir la columna `Odometer` column de kilometers a millas.\n",
    "\n",
    "Lo hacemos utilizando la función `.apply()` y pasandole una función lambda. Teniendo en cuenta que la milla es 1,6km, si dividimos la columna `Odometer`por 1,6, debería convertirla en millas.\n",
    "\n",
    "También, podemos crear una función ad-hoc, y llamarla desde el mismo `.apply()`"
   ]
  },
  {
   "cell_type": "code",
   "execution_count": null,
   "metadata": {},
   "outputs": [],
   "source": [
    "# Función ad-hoc\n",
    "def millas(x):\n",
    "    return (x / 1.6)"
   ]
  },
  {
   "cell_type": "code",
   "execution_count": null,
   "metadata": {},
   "outputs": [],
   "source": [
    "# Alternativa con función ad-hoc\n",
    "# Llamamos a la función millas y generamos la nueva variable Odometer Miles\n",
    "car_sales[\"Odometer (miles)\"] = car_sales[\"Odometer (KM)\"].apply(millas)"
   ]
  },
  {
   "cell_type": "code",
   "execution_count": null,
   "metadata": {},
   "outputs": [],
   "source": [
    "# Alternativa LAMBDA\n",
    "# Cambiamos Odometer a millas, con lambda\n",
    "car_sales[\"Odometer (KM)\"].apply(lambda x: x / 1.6)"
   ]
  },
  {
   "cell_type": "code",
   "execution_count": null,
   "metadata": {},
   "outputs": [],
   "source": [
    "car_sales"
   ]
  },
  {
   "cell_type": "markdown",
   "metadata": {},
   "source": [
    "La columna `Odometer` no se modificó. Por qué?\n",
    "\n",
    "Porque no la reasignamos."
   ]
  },
  {
   "cell_type": "code",
   "execution_count": null,
   "metadata": {},
   "outputs": [],
   "source": [
    "# Reasignando Odometer \n",
    "car_sales[\"Odometer (KM)\"] = car_sales[\"Odometer (KM)\"].apply(lambda x: x / 1.6)\n",
    "car_sales"
   ]
  },
  {
   "cell_type": "markdown",
   "metadata": {},
   "source": [
    "La función lambda en la función anterior implica que  \"tomemos los valores la columna `Odometer (KM)` ( que dentro de la función denominamos `x`) y dividamoslá por 1.6\"."
   ]
  },
  {
   "cell_type": "markdown",
   "metadata": {},
   "source": [
    "\n",
    "### Ejercicios\n",
    "Es recomendable intentar codear algo de pandas.\n",
    "\n",
    "Sugiero el primer link (escribiendo el código desde cero), algunos del punto 2 (de nuevo, escribiendo el código de cero) e invertir una hora leyendo el punto 3.\n",
    "\n",
    "1. [10-minute introduction to pandas](https://pandas.pydata.org/pandas-docs/stable/user_guide/10min.html)\n",
    "2. [Pandas getting started tutorial](https://pandas.pydata.org/pandas-docs/stable/getting_started/intro_tutorials/index.html)\n",
    "\n",
    "3. [Pandas essential basic functionality](https://pandas.pydata.org/pandas-docs/stable/user_guide/basics.html)\n"
   ]
  },
  {
   "cell_type": "code",
   "execution_count": null,
   "metadata": {},
   "outputs": [],
   "source": []
  }
 ],
 "metadata": {
  "hide_input": false,
  "kernelspec": {
   "display_name": "Python 3 (ipykernel)",
   "language": "python",
   "name": "python3"
  },
  "language_info": {
   "codemirror_mode": {
    "name": "ipython",
    "version": 3
   },
   "file_extension": ".py",
   "mimetype": "text/x-python",
   "name": "python",
   "nbconvert_exporter": "python",
   "pygments_lexer": "ipython3",
   "version": "3.10.9"
  }
 },
 "nbformat": 4,
 "nbformat_minor": 2
}
